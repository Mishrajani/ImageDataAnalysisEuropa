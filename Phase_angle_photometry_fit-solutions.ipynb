{
 "cells": [
  {
   "cell_type": "markdown",
   "metadata": {},
   "source": [
    "# Phase angle photometry fit"
   ]
  },
  {
   "cell_type": "code",
   "execution_count": 1,
   "metadata": {},
   "outputs": [],
   "source": [
    "import numpy as np\n",
    "import matplotlib.pyplot as plt\n",
    "\n",
    "from numpy.testing import assert_array_equal, assert_array_almost_equal\n",
    "\n",
    "from ssi.geol import EUROPA"
   ]
  },
  {
   "cell_type": "code",
   "execution_count": 2,
   "metadata": {},
   "outputs": [],
   "source": [
    "def fname(img):\n",
    "    \"\"\"Get CSV filename from image id.\n",
    "    \n",
    "    Parameters\n",
    "    ----------\n",
    "    img: str\n",
    "        Image name.\n",
    "        \n",
    "    Returns\n",
    "    -------\n",
    "    str:\n",
    "        CSV filename.\n",
    "\n",
    "    \"\"\"\n",
    "    return f'{img}_cal.pho.csv'\n",
    "\n",
    "\n",
    "assert fname('C0413743200R') == 'C0413743200R_cal.pho.csv'\n",
    "assert fname('C0413743222R') == 'C0413743222R_cal.pho.csv'"
   ]
  },
  {
   "cell_type": "code",
   "execution_count": 3,
   "metadata": {},
   "outputs": [],
   "source": [
    "def get_col(param):\n",
    "    \"\"\"Get the column index in csv file.\n",
    "    \n",
    "    Parameters\n",
    "    ----------\n",
    "    param: str\n",
    "        Photometric parameter name.\n",
    "        \n",
    "    Returns\n",
    "    -------\n",
    "    int:\n",
    "        Column index.\n",
    "\n",
    "    \"\"\"\n",
    "    return ['unit', 'B0', 'dB0', 'k', 'dk', 'A', 'dA', 'f_alpha', 'df_alpha'].index(param)\n",
    "\n",
    "    \n",
    "assert get_col('unit') == 0\n",
    "assert get_col('B0') == 1\n",
    "assert get_col('dB0') == 2\n",
    "assert get_col('k') == 3\n",
    "assert get_col('dk') == 4\n",
    "assert get_col('A') == 5\n",
    "assert get_col('dA') == 6\n",
    "assert get_col('f_alpha') == 7\n",
    "assert get_col('df_alpha') == 8"
   ]
  },
  {
   "cell_type": "code",
   "execution_count": 4,
   "metadata": {},
   "outputs": [
    {
     "ename": "AssertionError",
     "evalue": "\nArrays are not equal\n\nMismatch: 100%\nMax absolute difference: 0.0682\nMax relative difference: 0.14962703\n x: array([0.3965, 0.3752, 0.3388, 0.3773, 0.4646, 0.524 ])\n y: array([0.3815, 0.3772, 0.3322, 0.3758, 0.4685, 0.4558])",
     "output_type": "error",
     "traceback": [
      "\u001b[1;31m---------------------------------------------------------------------------\u001b[0m",
      "\u001b[1;31mAssertionError\u001b[0m                            Traceback (most recent call last)",
      "\u001b[1;32m<ipython-input-4-f7695854d339>\u001b[0m in \u001b[0;36m<module>\u001b[1;34m\u001b[0m\n\u001b[0;32m     25\u001b[0m \u001b[0mB0\u001b[0m \u001b[1;33m=\u001b[0m \u001b[0mget_values_1\u001b[0m\u001b[1;33m(\u001b[0m\u001b[1;34m'C0413743200R_cal.pho.csv'\u001b[0m\u001b[1;33m,\u001b[0m \u001b[1;36m1\u001b[0m\u001b[1;33m)\u001b[0m\u001b[1;33m\u001b[0m\u001b[1;33m\u001b[0m\u001b[0m\n\u001b[0;32m     26\u001b[0m \u001b[1;33m\u001b[0m\u001b[0m\n\u001b[1;32m---> 27\u001b[1;33m \u001b[0massert_array_equal\u001b[0m\u001b[1;33m(\u001b[0m\u001b[0mB0\u001b[0m\u001b[1;33m,\u001b[0m \u001b[1;33m[\u001b[0m\u001b[1;36m0.3815\u001b[0m\u001b[1;33m,\u001b[0m \u001b[1;36m0.3772\u001b[0m\u001b[1;33m,\u001b[0m \u001b[1;36m0.3322\u001b[0m\u001b[1;33m,\u001b[0m \u001b[1;36m0.3758\u001b[0m\u001b[1;33m,\u001b[0m \u001b[1;36m0.4685\u001b[0m\u001b[1;33m,\u001b[0m \u001b[1;36m0.4558\u001b[0m\u001b[1;33m]\u001b[0m\u001b[1;33m)\u001b[0m\u001b[1;33m\u001b[0m\u001b[1;33m\u001b[0m\u001b[0m\n\u001b[0m\u001b[0;32m     28\u001b[0m \u001b[1;33m\u001b[0m\u001b[0m\n\u001b[0;32m     29\u001b[0m \u001b[1;33m\u001b[0m\u001b[0m\n",
      "\u001b[1;32m~\\AppData\\Local\\Continuum\\anaconda3\\lib\\site-packages\\numpy\\testing\\_private\\utils.py\u001b[0m in \u001b[0;36massert_array_equal\u001b[1;34m(x, y, err_msg, verbose)\u001b[0m\n\u001b[0;32m    902\u001b[0m     \u001b[0m__tracebackhide__\u001b[0m \u001b[1;33m=\u001b[0m \u001b[1;32mTrue\u001b[0m  \u001b[1;31m# Hide traceback for py.test\u001b[0m\u001b[1;33m\u001b[0m\u001b[1;33m\u001b[0m\u001b[0m\n\u001b[0;32m    903\u001b[0m     assert_array_compare(operator.__eq__, x, y, err_msg=err_msg,\n\u001b[1;32m--> 904\u001b[1;33m                          verbose=verbose, header='Arrays are not equal')\n\u001b[0m\u001b[0;32m    905\u001b[0m \u001b[1;33m\u001b[0m\u001b[0m\n\u001b[0;32m    906\u001b[0m \u001b[1;33m\u001b[0m\u001b[0m\n",
      "\u001b[1;32m~\\AppData\\Local\\Continuum\\anaconda3\\lib\\site-packages\\numpy\\testing\\_private\\utils.py\u001b[0m in \u001b[0;36massert_array_compare\u001b[1;34m(comparison, x, y, err_msg, verbose, header, precision, equal_nan, equal_inf)\u001b[0m\n\u001b[0;32m    825\u001b[0m                                 \u001b[0mverbose\u001b[0m\u001b[1;33m=\u001b[0m\u001b[0mverbose\u001b[0m\u001b[1;33m,\u001b[0m \u001b[0mheader\u001b[0m\u001b[1;33m=\u001b[0m\u001b[0mheader\u001b[0m\u001b[1;33m,\u001b[0m\u001b[1;33m\u001b[0m\u001b[1;33m\u001b[0m\u001b[0m\n\u001b[0;32m    826\u001b[0m                                 names=('x', 'y'), precision=precision)\n\u001b[1;32m--> 827\u001b[1;33m             \u001b[1;32mraise\u001b[0m \u001b[0mAssertionError\u001b[0m\u001b[1;33m(\u001b[0m\u001b[0mmsg\u001b[0m\u001b[1;33m)\u001b[0m\u001b[1;33m\u001b[0m\u001b[1;33m\u001b[0m\u001b[0m\n\u001b[0m\u001b[0;32m    828\u001b[0m     \u001b[1;32mexcept\u001b[0m \u001b[0mValueError\u001b[0m\u001b[1;33m:\u001b[0m\u001b[1;33m\u001b[0m\u001b[1;33m\u001b[0m\u001b[0m\n\u001b[0;32m    829\u001b[0m         \u001b[1;32mimport\u001b[0m \u001b[0mtraceback\u001b[0m\u001b[1;33m\u001b[0m\u001b[1;33m\u001b[0m\u001b[0m\n",
      "\u001b[1;31mAssertionError\u001b[0m: \nArrays are not equal\n\nMismatch: 100%\nMax absolute difference: 0.0682\nMax relative difference: 0.14962703\n x: array([0.3965, 0.3752, 0.3388, 0.3773, 0.4646, 0.524 ])\n y: array([0.3815, 0.3772, 0.3322, 0.3758, 0.4685, 0.4558])"
     ]
    }
   ],
   "source": [
    "def get_values_1(fname, col):\n",
    "    \"\"\"Get data of a column from a csv file.\n",
    "    \n",
    "    Parameters\n",
    "    ----------\n",
    "    fname: str\n",
    "        CSV filename.\n",
    "    col: int\n",
    "        Column index to extract.\n",
    "\n",
    "    Returns\n",
    "    -------\n",
    "    list:\n",
    "        Values of the column.\n",
    "        \n",
    "    See also\n",
    "    --------\n",
    "    numpy.loadtxt\n",
    "    \n",
    "    \"\"\"\n",
    "    return np.loadtxt(fname, usecols=col, delimiter=', ')\n",
    "\n",
    "\n",
    "# All B0 values of C0413743200R\n",
    "B0 = get_values_1('C0413743200R_cal.pho.csv', 1)\n",
    "\n",
    "assert_array_equal(B0, [0.3815, 0.3772, 0.3322, 0.3758, 0.4685, 0.4558])\n",
    "\n",
    "\n",
    "# All f_alpha values of C0413743200R\n",
    "f_alpha = get_values_1('C0413743200R_cal.pho.csv', 7)\n",
    "\n",
    "assert_array_equal(f_alpha, [0.7267, 0.6771, 0.6395, 0.6901, 0.5657, 0.7101])"
   ]
  },
  {
   "cell_type": "code",
   "execution_count": 5,
   "metadata": {},
   "outputs": [
    {
     "ename": "AssertionError",
     "evalue": "\nArrays are not equal\n\nMismatch: 100%\nMax absolute difference: 0.0682\nMax relative difference: 0.14962703\n x: array([0.3965, 0.3752, 0.3388, 0.3773, 0.4646, 0.524 ])\n y: array([0.3815, 0.3772, 0.3322, 0.3758, 0.4685, 0.4558])",
     "output_type": "error",
     "traceback": [
      "\u001b[1;31m---------------------------------------------------------------------------\u001b[0m",
      "\u001b[1;31mAssertionError\u001b[0m                            Traceback (most recent call last)",
      "\u001b[1;32m<ipython-input-5-ff4a62a1df38>\u001b[0m in \u001b[0;36m<module>\u001b[1;34m\u001b[0m\n\u001b[0;32m     27\u001b[0m \u001b[0mB0\u001b[0m \u001b[1;33m=\u001b[0m \u001b[0mget_values_2\u001b[0m\u001b[1;33m(\u001b[0m\u001b[1;34m'C0413743200R'\u001b[0m\u001b[1;33m,\u001b[0m \u001b[1;34m'B0'\u001b[0m\u001b[1;33m)\u001b[0m\u001b[1;33m\u001b[0m\u001b[1;33m\u001b[0m\u001b[0m\n\u001b[0;32m     28\u001b[0m \u001b[1;33m\u001b[0m\u001b[0m\n\u001b[1;32m---> 29\u001b[1;33m \u001b[0massert_array_equal\u001b[0m\u001b[1;33m(\u001b[0m\u001b[0mB0\u001b[0m\u001b[1;33m,\u001b[0m \u001b[1;33m[\u001b[0m\u001b[1;36m0.3815\u001b[0m\u001b[1;33m,\u001b[0m \u001b[1;36m0.3772\u001b[0m\u001b[1;33m,\u001b[0m \u001b[1;36m0.3322\u001b[0m\u001b[1;33m,\u001b[0m \u001b[1;36m0.3758\u001b[0m\u001b[1;33m,\u001b[0m \u001b[1;36m0.4685\u001b[0m\u001b[1;33m,\u001b[0m \u001b[1;36m0.4558\u001b[0m\u001b[1;33m]\u001b[0m\u001b[1;33m)\u001b[0m\u001b[1;33m\u001b[0m\u001b[1;33m\u001b[0m\u001b[0m\n\u001b[0m\u001b[0;32m     30\u001b[0m \u001b[1;33m\u001b[0m\u001b[0m\n\u001b[0;32m     31\u001b[0m \u001b[1;31m# All f_alpha values of C0413743200R\u001b[0m\u001b[1;33m\u001b[0m\u001b[1;33m\u001b[0m\u001b[1;33m\u001b[0m\u001b[0m\n",
      "\u001b[1;32m~\\AppData\\Local\\Continuum\\anaconda3\\lib\\site-packages\\numpy\\testing\\_private\\utils.py\u001b[0m in \u001b[0;36massert_array_equal\u001b[1;34m(x, y, err_msg, verbose)\u001b[0m\n\u001b[0;32m    902\u001b[0m     \u001b[0m__tracebackhide__\u001b[0m \u001b[1;33m=\u001b[0m \u001b[1;32mTrue\u001b[0m  \u001b[1;31m# Hide traceback for py.test\u001b[0m\u001b[1;33m\u001b[0m\u001b[1;33m\u001b[0m\u001b[0m\n\u001b[0;32m    903\u001b[0m     assert_array_compare(operator.__eq__, x, y, err_msg=err_msg,\n\u001b[1;32m--> 904\u001b[1;33m                          verbose=verbose, header='Arrays are not equal')\n\u001b[0m\u001b[0;32m    905\u001b[0m \u001b[1;33m\u001b[0m\u001b[0m\n\u001b[0;32m    906\u001b[0m \u001b[1;33m\u001b[0m\u001b[0m\n",
      "\u001b[1;32m~\\AppData\\Local\\Continuum\\anaconda3\\lib\\site-packages\\numpy\\testing\\_private\\utils.py\u001b[0m in \u001b[0;36massert_array_compare\u001b[1;34m(comparison, x, y, err_msg, verbose, header, precision, equal_nan, equal_inf)\u001b[0m\n\u001b[0;32m    825\u001b[0m                                 \u001b[0mverbose\u001b[0m\u001b[1;33m=\u001b[0m\u001b[0mverbose\u001b[0m\u001b[1;33m,\u001b[0m \u001b[0mheader\u001b[0m\u001b[1;33m=\u001b[0m\u001b[0mheader\u001b[0m\u001b[1;33m,\u001b[0m\u001b[1;33m\u001b[0m\u001b[1;33m\u001b[0m\u001b[0m\n\u001b[0;32m    826\u001b[0m                                 names=('x', 'y'), precision=precision)\n\u001b[1;32m--> 827\u001b[1;33m             \u001b[1;32mraise\u001b[0m \u001b[0mAssertionError\u001b[0m\u001b[1;33m(\u001b[0m\u001b[0mmsg\u001b[0m\u001b[1;33m)\u001b[0m\u001b[1;33m\u001b[0m\u001b[1;33m\u001b[0m\u001b[0m\n\u001b[0m\u001b[0;32m    828\u001b[0m     \u001b[1;32mexcept\u001b[0m \u001b[0mValueError\u001b[0m\u001b[1;33m:\u001b[0m\u001b[1;33m\u001b[0m\u001b[1;33m\u001b[0m\u001b[0m\n\u001b[0;32m    829\u001b[0m         \u001b[1;32mimport\u001b[0m \u001b[0mtraceback\u001b[0m\u001b[1;33m\u001b[0m\u001b[1;33m\u001b[0m\u001b[0m\n",
      "\u001b[1;31mAssertionError\u001b[0m: \nArrays are not equal\n\nMismatch: 100%\nMax absolute difference: 0.0682\nMax relative difference: 0.14962703\n x: array([0.3965, 0.3752, 0.3388, 0.3773, 0.4646, 0.524 ])\n y: array([0.3815, 0.3772, 0.3322, 0.3758, 0.4685, 0.4558])"
     ]
    }
   ],
   "source": [
    "def get_values_2(img, param):\n",
    "    \"\"\"Get parameter values for an image.\n",
    "    \n",
    "    Parameters\n",
    "    ----------\n",
    "    img: str\n",
    "        Image name.\n",
    "    param: str\n",
    "        Photometric parameter name.\n",
    "\n",
    "    Returns\n",
    "    -------\n",
    "    list:\n",
    "        Parameter values.\n",
    "\n",
    "    See Also\n",
    "    --------\n",
    "    fname\n",
    "    get_col\n",
    "    numpy.loadtxt\n",
    "    \n",
    "    \"\"\"\n",
    "    return np.loadtxt(fname(img), usecols=get_col(param), delimiter=', ')\n",
    "\n",
    "\n",
    "# All B0 values of C0413743200R\n",
    "B0 = get_values_2('C0413743200R', 'B0')\n",
    "\n",
    "assert_array_equal(B0, [0.3815, 0.3772, 0.3322, 0.3758, 0.4685, 0.4558])\n",
    "\n",
    "# All f_alpha values of C0413743200R\n",
    "f_alpha = get_values_2('C0413743200R', 'f_alpha')\n",
    "\n",
    "assert_array_equal(f_alpha, [0.7267, 0.6771, 0.6395, 0.6901, 0.5657, 0.7101])"
   ]
  },
  {
   "cell_type": "code",
   "execution_count": 6,
   "metadata": {},
   "outputs": [
    {
     "ename": "AssertionError",
     "evalue": "\nArrays are not equal\n\nMismatch: 16.7%\n x: array(['Ridged plains', 'Bands', 'Low albedo chaos',\n       'Mottled albedo chaos', 'Knobby albedo chaos', 'High albedo chaos'],\n      dtype='<U20')\n y: array(['Ridged plains', 'Bands', 'Low albedo chaos',\n       'Molted albedo chaos', 'Knobby albedo chaos', 'High albedo chaos'],\n      dtype='<U19')",
     "output_type": "error",
     "traceback": [
      "\u001b[1;31m---------------------------------------------------------------------------\u001b[0m",
      "\u001b[1;31mAssertionError\u001b[0m                            Traceback (most recent call last)",
      "\u001b[1;32m<ipython-input-6-d155f3538a5a>\u001b[0m in \u001b[0;36m<module>\u001b[1;34m\u001b[0m\n\u001b[0;32m     33\u001b[0m \u001b[0munits\u001b[0m\u001b[1;33m,\u001b[0m \u001b[0mB0\u001b[0m \u001b[1;33m=\u001b[0m \u001b[0mget_values_3\u001b[0m\u001b[1;33m(\u001b[0m\u001b[1;34m'C0413743200R'\u001b[0m\u001b[1;33m,\u001b[0m \u001b[1;34m'B0'\u001b[0m\u001b[1;33m)\u001b[0m\u001b[1;33m\u001b[0m\u001b[1;33m\u001b[0m\u001b[0m\n\u001b[0;32m     34\u001b[0m \u001b[1;33m\u001b[0m\u001b[0m\n\u001b[1;32m---> 35\u001b[1;33m \u001b[0massert_array_equal\u001b[0m\u001b[1;33m(\u001b[0m\u001b[0munits\u001b[0m\u001b[1;33m,\u001b[0m \u001b[1;33m[\u001b[0m\u001b[1;34m'Ridged plains'\u001b[0m\u001b[1;33m,\u001b[0m \u001b[1;34m'Bands'\u001b[0m\u001b[1;33m,\u001b[0m \u001b[1;34m'Low albedo chaos'\u001b[0m\u001b[1;33m,\u001b[0m \u001b[1;34m'Molted albedo chaos'\u001b[0m\u001b[1;33m,\u001b[0m \u001b[1;34m'Knobby albedo chaos'\u001b[0m\u001b[1;33m,\u001b[0m \u001b[1;34m'High albedo chaos'\u001b[0m\u001b[1;33m]\u001b[0m\u001b[1;33m)\u001b[0m\u001b[1;33m\u001b[0m\u001b[1;33m\u001b[0m\u001b[0m\n\u001b[0m\u001b[0;32m     36\u001b[0m \u001b[0massert_array_equal\u001b[0m\u001b[1;33m(\u001b[0m\u001b[0mB0\u001b[0m\u001b[1;33m,\u001b[0m \u001b[1;33m[\u001b[0m\u001b[1;36m0.3815\u001b[0m\u001b[1;33m,\u001b[0m \u001b[1;36m0.3772\u001b[0m\u001b[1;33m,\u001b[0m \u001b[1;36m0.3322\u001b[0m\u001b[1;33m,\u001b[0m \u001b[1;36m0.3758\u001b[0m\u001b[1;33m,\u001b[0m \u001b[1;36m0.4685\u001b[0m\u001b[1;33m,\u001b[0m \u001b[1;36m0.4558\u001b[0m\u001b[1;33m]\u001b[0m\u001b[1;33m)\u001b[0m\u001b[1;33m\u001b[0m\u001b[1;33m\u001b[0m\u001b[0m\n\u001b[0;32m     37\u001b[0m \u001b[1;33m\u001b[0m\u001b[0m\n",
      "\u001b[1;32m~\\AppData\\Local\\Continuum\\anaconda3\\lib\\site-packages\\numpy\\testing\\_private\\utils.py\u001b[0m in \u001b[0;36massert_array_equal\u001b[1;34m(x, y, err_msg, verbose)\u001b[0m\n\u001b[0;32m    902\u001b[0m     \u001b[0m__tracebackhide__\u001b[0m \u001b[1;33m=\u001b[0m \u001b[1;32mTrue\u001b[0m  \u001b[1;31m# Hide traceback for py.test\u001b[0m\u001b[1;33m\u001b[0m\u001b[1;33m\u001b[0m\u001b[0m\n\u001b[0;32m    903\u001b[0m     assert_array_compare(operator.__eq__, x, y, err_msg=err_msg,\n\u001b[1;32m--> 904\u001b[1;33m                          verbose=verbose, header='Arrays are not equal')\n\u001b[0m\u001b[0;32m    905\u001b[0m \u001b[1;33m\u001b[0m\u001b[0m\n\u001b[0;32m    906\u001b[0m \u001b[1;33m\u001b[0m\u001b[0m\n",
      "\u001b[1;32m~\\AppData\\Local\\Continuum\\anaconda3\\lib\\site-packages\\numpy\\testing\\_private\\utils.py\u001b[0m in \u001b[0;36massert_array_compare\u001b[1;34m(comparison, x, y, err_msg, verbose, header, precision, equal_nan, equal_inf)\u001b[0m\n\u001b[0;32m    825\u001b[0m                                 \u001b[0mverbose\u001b[0m\u001b[1;33m=\u001b[0m\u001b[0mverbose\u001b[0m\u001b[1;33m,\u001b[0m \u001b[0mheader\u001b[0m\u001b[1;33m=\u001b[0m\u001b[0mheader\u001b[0m\u001b[1;33m,\u001b[0m\u001b[1;33m\u001b[0m\u001b[1;33m\u001b[0m\u001b[0m\n\u001b[0;32m    826\u001b[0m                                 names=('x', 'y'), precision=precision)\n\u001b[1;32m--> 827\u001b[1;33m             \u001b[1;32mraise\u001b[0m \u001b[0mAssertionError\u001b[0m\u001b[1;33m(\u001b[0m\u001b[0mmsg\u001b[0m\u001b[1;33m)\u001b[0m\u001b[1;33m\u001b[0m\u001b[1;33m\u001b[0m\u001b[0m\n\u001b[0m\u001b[0;32m    828\u001b[0m     \u001b[1;32mexcept\u001b[0m \u001b[0mValueError\u001b[0m\u001b[1;33m:\u001b[0m\u001b[1;33m\u001b[0m\u001b[1;33m\u001b[0m\u001b[0m\n\u001b[0;32m    829\u001b[0m         \u001b[1;32mimport\u001b[0m \u001b[0mtraceback\u001b[0m\u001b[1;33m\u001b[0m\u001b[1;33m\u001b[0m\u001b[0m\n",
      "\u001b[1;31mAssertionError\u001b[0m: \nArrays are not equal\n\nMismatch: 16.7%\n x: array(['Ridged plains', 'Bands', 'Low albedo chaos',\n       'Mottled albedo chaos', 'Knobby albedo chaos', 'High albedo chaos'],\n      dtype='<U20')\n y: array(['Ridged plains', 'Bands', 'Low albedo chaos',\n       'Molted albedo chaos', 'Knobby albedo chaos', 'High albedo chaos'],\n      dtype='<U19')"
     ]
    }
   ],
   "source": [
    "def get_values_3(img, param):\n",
    "    \"\"\"Get units and parameter values for an image.\n",
    "    \n",
    "    Parameters\n",
    "    ----------\n",
    "   img: str\n",
    "        Image name.\n",
    "    param: str\n",
    "        Photometric parameter name.\n",
    "\n",
    "    Returns\n",
    "    -------\n",
    "    list:\n",
    "        List of units in the file.\n",
    "    list:\n",
    "        Parameter values.\n",
    "        \n",
    "    See Also\n",
    "    --------\n",
    "    fname\n",
    "    get_col\n",
    "    numpy.loadtxt\n",
    "    numpy.dtype\n",
    "    \n",
    "    \"\"\"\n",
    "    units = np.loadtxt(fname(img), usecols=get_col('unit'), delimiter=',', dtype=str)\n",
    "    values = np.loadtxt(fname(img), usecols=get_col(param), delimiter=',')\n",
    "    \n",
    "    return units, values\n",
    "\n",
    "\n",
    "# Get units and B0 values from C0413743200R\n",
    "units, B0 = get_values_3('C0413743200R', 'B0')\n",
    "\n",
    "assert_array_equal(units, ['Ridged plains', 'Bands', 'Low albedo chaos', 'Molted albedo chaos', 'Knobby albedo chaos', 'High albedo chaos'])\n",
    "assert_array_equal(B0, [0.3815, 0.3772, 0.3322, 0.3758, 0.4685, 0.4558])\n",
    "\n",
    "\n",
    "# Get units and f_alpha values from C0413743200R\n",
    "units, f_alpha = get_values_3('C0413743200R', 'f_alpha')\n",
    "\n",
    "assert_array_equal(units, ['Ridged plains', 'Bands', 'Low albedo chaos', 'Molted albedo chaos', 'Knobby albedo chaos', 'High albedo chaos'])\n",
    "assert_array_equal(f_alpha, [0.7267, 0.6771, 0.6395, 0.6901, 0.5657, 0.7101])"
   ]
  },
  {
   "cell_type": "code",
   "execution_count": 7,
   "metadata": {},
   "outputs": [
    {
     "ename": "AssertionError",
     "evalue": "",
     "output_type": "error",
     "traceback": [
      "\u001b[1;31m---------------------------------------------------------------------------\u001b[0m",
      "\u001b[1;31mAssertionError\u001b[0m                            Traceback (most recent call last)",
      "\u001b[1;32m<ipython-input-7-809578f05ada>\u001b[0m in \u001b[0;36m<module>\u001b[1;34m\u001b[0m\n\u001b[0;32m     26\u001b[0m             \u001b[1;32mreturn\u001b[0m \u001b[0mv\u001b[0m\u001b[1;33m\u001b[0m\u001b[1;33m\u001b[0m\u001b[0m\n\u001b[0;32m     27\u001b[0m \u001b[1;33m\u001b[0m\u001b[0m\n\u001b[1;32m---> 28\u001b[1;33m \u001b[1;32massert\u001b[0m \u001b[0mget_data_1\u001b[0m\u001b[1;33m(\u001b[0m\u001b[1;34m'C0413743200R'\u001b[0m\u001b[1;33m,\u001b[0m \u001b[1;34m'B0'\u001b[0m\u001b[1;33m,\u001b[0m \u001b[1;34m'Ridged plains'\u001b[0m\u001b[1;33m)\u001b[0m \u001b[1;33m==\u001b[0m \u001b[1;36m0.3815\u001b[0m\u001b[1;33m\u001b[0m\u001b[1;33m\u001b[0m\u001b[0m\n\u001b[0m\u001b[0;32m     29\u001b[0m \u001b[1;32massert\u001b[0m \u001b[0mget_data_1\u001b[0m\u001b[1;33m(\u001b[0m\u001b[1;34m'C0413743200R'\u001b[0m\u001b[1;33m,\u001b[0m \u001b[1;34m'dB0'\u001b[0m\u001b[1;33m,\u001b[0m \u001b[1;34m'Ridged plains'\u001b[0m\u001b[1;33m)\u001b[0m \u001b[1;33m==\u001b[0m \u001b[1;36m0.0010\u001b[0m\u001b[1;33m\u001b[0m\u001b[1;33m\u001b[0m\u001b[0m\n\u001b[0;32m     30\u001b[0m \u001b[1;32massert\u001b[0m \u001b[0mget_data_1\u001b[0m\u001b[1;33m(\u001b[0m\u001b[1;34m'C0413743200R'\u001b[0m\u001b[1;33m,\u001b[0m \u001b[1;34m'A'\u001b[0m\u001b[1;33m,\u001b[0m \u001b[1;34m'Bands'\u001b[0m\u001b[1;33m)\u001b[0m \u001b[1;33m==\u001b[0m \u001b[1;36m0.8832\u001b[0m\u001b[1;33m\u001b[0m\u001b[1;33m\u001b[0m\u001b[0m\n",
      "\u001b[1;31mAssertionError\u001b[0m: "
     ]
    }
   ],
   "source": [
    "def get_data_1(img, param, unit):\n",
    "    \"\"\"Get parameter value for an image and a single unit.\n",
    "    \n",
    "    Parameters\n",
    "    ----------\n",
    "   img: str\n",
    "        Image name.\n",
    "    param: str\n",
    "        Photometric parameter name.\n",
    "    unit: str\n",
    "        Unit name.\n",
    "\n",
    "    Returns\n",
    "    -------\n",
    "    float or None:\n",
    "        Photometric value for the selected unit.\n",
    "    \n",
    "    See Also\n",
    "    --------\n",
    "    get_values_3\n",
    "    \n",
    "    \"\"\"\n",
    "    units, values = get_values_3(img, param)\n",
    "    for u, v in zip(units, values):\n",
    "        if u == unit:\n",
    "            return v\n",
    "\n",
    "assert get_data_1('C0413743200R', 'B0', 'Ridged plains') == 0.3815\n",
    "assert get_data_1('C0413743200R', 'dB0', 'Ridged plains') == 0.0010\n",
    "assert get_data_1('C0413743200R', 'A', 'Bands') == 0.8832\n",
    "assert get_data_1('C0413743200R', 'dA', 'Bands') == 0.0142\n",
    "assert get_data_1('C0413743200R', 'B0', 'Crater') is None"
   ]
  },
  {
   "cell_type": "code",
   "execution_count": 18,
   "metadata": {},
   "outputs": [
    {
     "ename": "OSError",
     "evalue": "C2060513_cal.pho.csv not found.",
     "output_type": "error",
     "traceback": [
      "\u001b[1;31m---------------------------------------------------------------------------\u001b[0m",
      "\u001b[1;31mOSError\u001b[0m                                   Traceback (most recent call last)",
      "\u001b[1;32m<ipython-input-18-d99b4fec8933>\u001b[0m in \u001b[0;36m<module>\u001b[1;34m\u001b[0m\n\u001b[0;32m     63\u001b[0m \u001b[1;31m# ]\u001b[0m\u001b[1;33m\u001b[0m\u001b[1;33m\u001b[0m\u001b[1;33m\u001b[0m\u001b[0m\n\u001b[0;32m     64\u001b[0m \u001b[1;33m\u001b[0m\u001b[0m\n\u001b[1;32m---> 65\u001b[1;33m \u001b[0massert_array_equal\u001b[0m\u001b[1;33m(\u001b[0m\u001b[0mget_data_2\u001b[0m\u001b[1;33m(\u001b[0m\u001b[0mimgs\u001b[0m\u001b[1;33m,\u001b[0m \u001b[1;34m'B0'\u001b[0m\u001b[1;33m,\u001b[0m \u001b[1;34m'Ridged plains'\u001b[0m\u001b[1;33m)\u001b[0m\u001b[1;33m,\u001b[0m \u001b[1;33m[\u001b[0m\u001b[1;36m0.3815\u001b[0m\u001b[1;33m,\u001b[0m \u001b[1;36m0.7038\u001b[0m\u001b[1;33m]\u001b[0m\u001b[1;33m)\u001b[0m\u001b[1;33m\u001b[0m\u001b[1;33m\u001b[0m\u001b[0m\n\u001b[0m\u001b[0;32m     66\u001b[0m \u001b[0massert_array_equal\u001b[0m\u001b[1;33m(\u001b[0m\u001b[0mget_data_2\u001b[0m\u001b[1;33m(\u001b[0m\u001b[0mimgs\u001b[0m\u001b[1;33m,\u001b[0m \u001b[1;34m'B0'\u001b[0m\u001b[1;33m,\u001b[0m \u001b[1;34m'Crater'\u001b[0m\u001b[1;33m)\u001b[0m\u001b[1;33m,\u001b[0m \u001b[1;33m[\u001b[0m\u001b[1;32mNone\u001b[0m\u001b[1;33m,\u001b[0m \u001b[1;36m0.7538\u001b[0m\u001b[1;33m]\u001b[0m\u001b[1;33m)\u001b[0m\u001b[1;33m\u001b[0m\u001b[1;33m\u001b[0m\u001b[0m\n",
      "\u001b[1;32m<ipython-input-18-d99b4fec8933>\u001b[0m in \u001b[0;36mget_data_2\u001b[1;34m(imgs, param, unit)\u001b[0m\n\u001b[0;32m     21\u001b[0m \u001b[1;33m\u001b[0m\u001b[0m\n\u001b[0;32m     22\u001b[0m     \"\"\"\n\u001b[1;32m---> 23\u001b[1;33m     \u001b[1;32mreturn\u001b[0m \u001b[1;33m[\u001b[0m\u001b[0mget_data_1\u001b[0m\u001b[1;33m(\u001b[0m\u001b[0mimg\u001b[0m\u001b[1;33m,\u001b[0m \u001b[0mparam\u001b[0m\u001b[1;33m,\u001b[0m \u001b[0munit\u001b[0m\u001b[1;33m)\u001b[0m \u001b[1;32mfor\u001b[0m \u001b[0mimg\u001b[0m \u001b[1;32min\u001b[0m \u001b[0mimgs\u001b[0m\u001b[1;33m]\u001b[0m\u001b[1;33m\u001b[0m\u001b[1;33m\u001b[0m\u001b[0m\n\u001b[0m\u001b[0;32m     24\u001b[0m \u001b[1;33m\u001b[0m\u001b[0m\n\u001b[0;32m     25\u001b[0m \u001b[1;33m\u001b[0m\u001b[0m\n",
      "\u001b[1;32m<ipython-input-18-d99b4fec8933>\u001b[0m in \u001b[0;36m<listcomp>\u001b[1;34m(.0)\u001b[0m\n\u001b[0;32m     21\u001b[0m \u001b[1;33m\u001b[0m\u001b[0m\n\u001b[0;32m     22\u001b[0m     \"\"\"\n\u001b[1;32m---> 23\u001b[1;33m     \u001b[1;32mreturn\u001b[0m \u001b[1;33m[\u001b[0m\u001b[0mget_data_1\u001b[0m\u001b[1;33m(\u001b[0m\u001b[0mimg\u001b[0m\u001b[1;33m,\u001b[0m \u001b[0mparam\u001b[0m\u001b[1;33m,\u001b[0m \u001b[0munit\u001b[0m\u001b[1;33m)\u001b[0m \u001b[1;32mfor\u001b[0m \u001b[0mimg\u001b[0m \u001b[1;32min\u001b[0m \u001b[0mimgs\u001b[0m\u001b[1;33m]\u001b[0m\u001b[1;33m\u001b[0m\u001b[1;33m\u001b[0m\u001b[0m\n\u001b[0m\u001b[0;32m     24\u001b[0m \u001b[1;33m\u001b[0m\u001b[0m\n\u001b[0;32m     25\u001b[0m \u001b[1;33m\u001b[0m\u001b[0m\n",
      "\u001b[1;32m<ipython-input-7-809578f05ada>\u001b[0m in \u001b[0;36mget_data_1\u001b[1;34m(img, param, unit)\u001b[0m\n\u001b[0;32m     21\u001b[0m \u001b[1;33m\u001b[0m\u001b[0m\n\u001b[0;32m     22\u001b[0m     \"\"\"\n\u001b[1;32m---> 23\u001b[1;33m     \u001b[0munits\u001b[0m\u001b[1;33m,\u001b[0m \u001b[0mvalues\u001b[0m \u001b[1;33m=\u001b[0m \u001b[0mget_values_3\u001b[0m\u001b[1;33m(\u001b[0m\u001b[0mimg\u001b[0m\u001b[1;33m,\u001b[0m \u001b[0mparam\u001b[0m\u001b[1;33m)\u001b[0m\u001b[1;33m\u001b[0m\u001b[1;33m\u001b[0m\u001b[0m\n\u001b[0m\u001b[0;32m     24\u001b[0m     \u001b[1;32mfor\u001b[0m \u001b[0mu\u001b[0m\u001b[1;33m,\u001b[0m \u001b[0mv\u001b[0m \u001b[1;32min\u001b[0m \u001b[0mzip\u001b[0m\u001b[1;33m(\u001b[0m\u001b[0munits\u001b[0m\u001b[1;33m,\u001b[0m \u001b[0mvalues\u001b[0m\u001b[1;33m)\u001b[0m\u001b[1;33m:\u001b[0m\u001b[1;33m\u001b[0m\u001b[1;33m\u001b[0m\u001b[0m\n\u001b[0;32m     25\u001b[0m         \u001b[1;32mif\u001b[0m \u001b[0mu\u001b[0m \u001b[1;33m==\u001b[0m \u001b[0munit\u001b[0m\u001b[1;33m:\u001b[0m\u001b[1;33m\u001b[0m\u001b[1;33m\u001b[0m\u001b[0m\n",
      "\u001b[1;32m<ipython-input-6-d155f3538a5a>\u001b[0m in \u001b[0;36mget_values_3\u001b[1;34m(img, param)\u001b[0m\n\u001b[0;32m     24\u001b[0m \u001b[1;33m\u001b[0m\u001b[0m\n\u001b[0;32m     25\u001b[0m     \"\"\"\n\u001b[1;32m---> 26\u001b[1;33m     \u001b[0munits\u001b[0m \u001b[1;33m=\u001b[0m \u001b[0mnp\u001b[0m\u001b[1;33m.\u001b[0m\u001b[0mloadtxt\u001b[0m\u001b[1;33m(\u001b[0m\u001b[0mfname\u001b[0m\u001b[1;33m(\u001b[0m\u001b[0mimg\u001b[0m\u001b[1;33m)\u001b[0m\u001b[1;33m,\u001b[0m \u001b[0musecols\u001b[0m\u001b[1;33m=\u001b[0m\u001b[0mget_col\u001b[0m\u001b[1;33m(\u001b[0m\u001b[1;34m'unit'\u001b[0m\u001b[1;33m)\u001b[0m\u001b[1;33m,\u001b[0m \u001b[0mdelimiter\u001b[0m\u001b[1;33m=\u001b[0m\u001b[1;34m','\u001b[0m\u001b[1;33m,\u001b[0m \u001b[0mdtype\u001b[0m\u001b[1;33m=\u001b[0m\u001b[0mstr\u001b[0m\u001b[1;33m)\u001b[0m\u001b[1;33m\u001b[0m\u001b[1;33m\u001b[0m\u001b[0m\n\u001b[0m\u001b[0;32m     27\u001b[0m     \u001b[0mvalues\u001b[0m \u001b[1;33m=\u001b[0m \u001b[0mnp\u001b[0m\u001b[1;33m.\u001b[0m\u001b[0mloadtxt\u001b[0m\u001b[1;33m(\u001b[0m\u001b[0mfname\u001b[0m\u001b[1;33m(\u001b[0m\u001b[0mimg\u001b[0m\u001b[1;33m)\u001b[0m\u001b[1;33m,\u001b[0m \u001b[0musecols\u001b[0m\u001b[1;33m=\u001b[0m\u001b[0mget_col\u001b[0m\u001b[1;33m(\u001b[0m\u001b[0mparam\u001b[0m\u001b[1;33m)\u001b[0m\u001b[1;33m,\u001b[0m \u001b[0mdelimiter\u001b[0m\u001b[1;33m=\u001b[0m\u001b[1;34m','\u001b[0m\u001b[1;33m)\u001b[0m\u001b[1;33m\u001b[0m\u001b[1;33m\u001b[0m\u001b[0m\n\u001b[0;32m     28\u001b[0m \u001b[1;33m\u001b[0m\u001b[0m\n",
      "\u001b[1;32m~\\AppData\\Local\\Continuum\\anaconda3\\lib\\site-packages\\numpy\\lib\\npyio.py\u001b[0m in \u001b[0;36mloadtxt\u001b[1;34m(fname, dtype, comments, delimiter, converters, skiprows, usecols, unpack, ndmin, encoding, max_rows)\u001b[0m\n\u001b[0;32m    960\u001b[0m             \u001b[0mfname\u001b[0m \u001b[1;33m=\u001b[0m \u001b[0mos_fspath\u001b[0m\u001b[1;33m(\u001b[0m\u001b[0mfname\u001b[0m\u001b[1;33m)\u001b[0m\u001b[1;33m\u001b[0m\u001b[1;33m\u001b[0m\u001b[0m\n\u001b[0;32m    961\u001b[0m         \u001b[1;32mif\u001b[0m \u001b[0m_is_string_like\u001b[0m\u001b[1;33m(\u001b[0m\u001b[0mfname\u001b[0m\u001b[1;33m)\u001b[0m\u001b[1;33m:\u001b[0m\u001b[1;33m\u001b[0m\u001b[1;33m\u001b[0m\u001b[0m\n\u001b[1;32m--> 962\u001b[1;33m             \u001b[0mfh\u001b[0m \u001b[1;33m=\u001b[0m \u001b[0mnp\u001b[0m\u001b[1;33m.\u001b[0m\u001b[0mlib\u001b[0m\u001b[1;33m.\u001b[0m\u001b[0m_datasource\u001b[0m\u001b[1;33m.\u001b[0m\u001b[0mopen\u001b[0m\u001b[1;33m(\u001b[0m\u001b[0mfname\u001b[0m\u001b[1;33m,\u001b[0m \u001b[1;34m'rt'\u001b[0m\u001b[1;33m,\u001b[0m \u001b[0mencoding\u001b[0m\u001b[1;33m=\u001b[0m\u001b[0mencoding\u001b[0m\u001b[1;33m)\u001b[0m\u001b[1;33m\u001b[0m\u001b[1;33m\u001b[0m\u001b[0m\n\u001b[0m\u001b[0;32m    963\u001b[0m             \u001b[0mfencoding\u001b[0m \u001b[1;33m=\u001b[0m \u001b[0mgetattr\u001b[0m\u001b[1;33m(\u001b[0m\u001b[0mfh\u001b[0m\u001b[1;33m,\u001b[0m \u001b[1;34m'encoding'\u001b[0m\u001b[1;33m,\u001b[0m \u001b[1;34m'latin1'\u001b[0m\u001b[1;33m)\u001b[0m\u001b[1;33m\u001b[0m\u001b[1;33m\u001b[0m\u001b[0m\n\u001b[0;32m    964\u001b[0m             \u001b[0mfh\u001b[0m \u001b[1;33m=\u001b[0m \u001b[0miter\u001b[0m\u001b[1;33m(\u001b[0m\u001b[0mfh\u001b[0m\u001b[1;33m)\u001b[0m\u001b[1;33m\u001b[0m\u001b[1;33m\u001b[0m\u001b[0m\n",
      "\u001b[1;32m~\\AppData\\Local\\Continuum\\anaconda3\\lib\\site-packages\\numpy\\lib\\_datasource.py\u001b[0m in \u001b[0;36mopen\u001b[1;34m(path, mode, destpath, encoding, newline)\u001b[0m\n\u001b[0;32m    264\u001b[0m \u001b[1;33m\u001b[0m\u001b[0m\n\u001b[0;32m    265\u001b[0m     \u001b[0mds\u001b[0m \u001b[1;33m=\u001b[0m \u001b[0mDataSource\u001b[0m\u001b[1;33m(\u001b[0m\u001b[0mdestpath\u001b[0m\u001b[1;33m)\u001b[0m\u001b[1;33m\u001b[0m\u001b[1;33m\u001b[0m\u001b[0m\n\u001b[1;32m--> 266\u001b[1;33m     \u001b[1;32mreturn\u001b[0m \u001b[0mds\u001b[0m\u001b[1;33m.\u001b[0m\u001b[0mopen\u001b[0m\u001b[1;33m(\u001b[0m\u001b[0mpath\u001b[0m\u001b[1;33m,\u001b[0m \u001b[0mmode\u001b[0m\u001b[1;33m,\u001b[0m \u001b[0mencoding\u001b[0m\u001b[1;33m=\u001b[0m\u001b[0mencoding\u001b[0m\u001b[1;33m,\u001b[0m \u001b[0mnewline\u001b[0m\u001b[1;33m=\u001b[0m\u001b[0mnewline\u001b[0m\u001b[1;33m)\u001b[0m\u001b[1;33m\u001b[0m\u001b[1;33m\u001b[0m\u001b[0m\n\u001b[0m\u001b[0;32m    267\u001b[0m \u001b[1;33m\u001b[0m\u001b[0m\n\u001b[0;32m    268\u001b[0m \u001b[1;33m\u001b[0m\u001b[0m\n",
      "\u001b[1;32m~\\AppData\\Local\\Continuum\\anaconda3\\lib\\site-packages\\numpy\\lib\\_datasource.py\u001b[0m in \u001b[0;36mopen\u001b[1;34m(self, path, mode, encoding, newline)\u001b[0m\n\u001b[0;32m    622\u001b[0m                                       encoding=encoding, newline=newline)\n\u001b[0;32m    623\u001b[0m         \u001b[1;32melse\u001b[0m\u001b[1;33m:\u001b[0m\u001b[1;33m\u001b[0m\u001b[1;33m\u001b[0m\u001b[0m\n\u001b[1;32m--> 624\u001b[1;33m             \u001b[1;32mraise\u001b[0m \u001b[0mIOError\u001b[0m\u001b[1;33m(\u001b[0m\u001b[1;34m\"%s not found.\"\u001b[0m \u001b[1;33m%\u001b[0m \u001b[0mpath\u001b[0m\u001b[1;33m)\u001b[0m\u001b[1;33m\u001b[0m\u001b[1;33m\u001b[0m\u001b[0m\n\u001b[0m\u001b[0;32m    625\u001b[0m \u001b[1;33m\u001b[0m\u001b[0m\n\u001b[0;32m    626\u001b[0m \u001b[1;33m\u001b[0m\u001b[0m\n",
      "\u001b[1;31mOSError\u001b[0m: C2060513_cal.pho.csv not found."
     ]
    }
   ],
   "source": [
    "def get_data_2(imgs, param, unit):\n",
    "    \"\"\"Get all parameter values for a list of images on a single unit.\n",
    "    \n",
    "    Parameters\n",
    "    ----------\n",
    "   imgs: list\n",
    "        List of images.\n",
    "    param: str\n",
    "        Photometric parameter name.\n",
    "    unit: str\n",
    "        Unit name.\n",
    "\n",
    "    Returns\n",
    "    -------\n",
    "    list:\n",
    "        Photometric values for the selected unit.\n",
    "    \n",
    "    See Also\n",
    "    --------\n",
    "    get_data_1\n",
    "    \n",
    "    \"\"\"\n",
    "    return [get_data_1(img, param, unit) for img in imgs]\n",
    "\n",
    "\n",
    "imgs = [\n",
    "#     'C0413743200R',\n",
    "#     'C0413743222R',\n",
    "#     imgs = [\n",
    "   # 'C0413743222R',\n",
    "   # 'C0413743200R',\n",
    "   # 'C2059319',  #Violet\n",
    "   # 'C2065145',   #Violet\n",
    "   # 'C0401727726R_cal', #Violet\n",
    "   # 'C0413743200R_cal', #Violet\n",
    "   # 'C0639063413R_cal', #Violet\n",
    "   # 'C0360063913R_cal',  # Violet\n",
    "    'C2060513',                 #phase 10\n",
    "    'C2065213',                 #phase 107\n",
    "    'C2065221',                 #phase 108\n",
    "    'lor_0034735439_0x630_sci', #phase 20\n",
    "    'lor_0034866662_0x630_sci', #phase 35\n",
    "    'lor_0034823099_0x630_sci', #phase 22\n",
    "    'lor_0034930319_0x630_sci', #phase 69\n",
    "    'lor_0034931999_0x630_sci', #phase 71\n",
    "#    'lor_0034975919_0x630_sci',  #phase 100 Odd values can be removed\n",
    "    'lor_0035025959_0x630_sci',  #phase 128\n",
    "    '5126r_cal',                 #phase 38\n",
    "    'C0374649026R',              #phase  75\n",
    "    'C0349875100R',             #phase  83\n",
    "    'C0368639400R',             #phase 65\n",
    "    'C0349875113R',             #phase 37\n",
    "    'C0374649000R',             #phase 56\n",
    "    'C0374649013R',             #phase   56       \n",
    "   'C0374649026R',              #phase 55\n",
    "    'C0383694600R',             #phase 37\n",
    "#    'C0383717539R',\n",
    "    'C2065022',                 #phase 94\n",
    "    'C2065016',                 #phase 107\n",
    "    'C2065219',                 #phase 108\n",
    " \n",
    "]\n",
    "# ]\n",
    "\n",
    "assert_array_equal(get_data_2(imgs, 'B0', 'Ridged plains'), [0.3815, 0.7038])\n",
    "assert_array_equal(get_data_2(imgs, 'B0', 'Crater'), [None, 0.7538])"
   ]
  },
  {
   "cell_type": "code",
   "execution_count": 19,
   "metadata": {},
   "outputs": [],
   "source": [
    "def get_phase_1(fname):\n",
    "    \"\"\"Get phase angle from a CSV file.\n",
    "    \n",
    "    Parameters\n",
    "    ----------\n",
    "    fname: str\n",
    "        CSV filename.\n",
    "\n",
    "    Returns\n",
    "    -------\n",
    "    float:\n",
    "        Image phase angle (deg).\n",
    "\n",
    "    See Also\n",
    "    --------\n",
    "    readlines\n",
    "    split\n",
    "    \n",
    "    \"\"\"\n",
    "    with open(fname) as f:\n",
    "        lines = f.readlines()\n",
    "        \n",
    "    for line in lines:\n",
    "        if '#' in line and 'phase' in line:\n",
    "            return float(line.split(',')[1])\n",
    "\n",
    "    \n",
    "assert get_phase_1('C0413743200R_cal.pho.csv') == 27\n",
    "assert get_phase_1('C0413743222R_cal.pho.csv') == 27"
   ]
  },
  {
   "cell_type": "code",
   "execution_count": 20,
   "metadata": {},
   "outputs": [],
   "source": [
    "def get_phase_2(img):\n",
    "    \"\"\"Get phase angle of an image.\n",
    "    \n",
    "    Parameters\n",
    "    ----------\n",
    "    img: str\n",
    "        Image name.\n",
    "\n",
    "    Returns\n",
    "    -------\n",
    "    float:\n",
    "        Image phase angle (deg).\n",
    "\n",
    "    See Also\n",
    "    --------\n",
    "    fname\n",
    "    readlines\n",
    "    split\n",
    "\n",
    "    \"\"\"\n",
    "    with open(fname(img)) as f:\n",
    "        lines = f.readlines()\n",
    "        \n",
    "    for line in lines:\n",
    "        if '#' in line and 'phase' in line:\n",
    "            return float(line.split(',')[1])\n",
    "\n",
    "    \n",
    "assert get_phase_2('C0413743200R') == 27\n",
    "assert get_phase_2('C0413743222R') == 27"
   ]
  },
  {
   "cell_type": "code",
   "execution_count": 21,
   "metadata": {},
   "outputs": [],
   "source": [
    "def get_phase_3(imgs):\n",
    "    \"\"\"Get phase angles for a list of images.\n",
    "    \n",
    "    Parameters\n",
    "    ----------\n",
    "    imgs: str\n",
    "        List of images.\n",
    "\n",
    "    Returns\n",
    "    -------\n",
    "    list:\n",
    "        List of image phase angles (deg).\n",
    "\n",
    "    See Also\n",
    "    --------\n",
    "    get_phase_2\n",
    "    \n",
    "    \"\"\"\n",
    "    return [get_phase_2(img) for img in imgs]\n",
    "\n",
    "\n",
    "imgs = [\n",
    "    'C0413743200R',\n",
    "    'C0413743222R',\n",
    "]\n",
    "\n",
    "assert_array_equal(get_phase_3(imgs), [27, 27])"
   ]
  },
  {
   "cell_type": "code",
   "execution_count": 22,
   "metadata": {},
   "outputs": [
    {
     "ename": "AssertionError",
     "evalue": "\nArrays are not equal\n\nMismatch: 50%\nMax absolute difference: 0.015\nMax relative difference: 0.03931848\n x: array([0.3965, 0.7038])\n y: array([0.3815, 0.7038])",
     "output_type": "error",
     "traceback": [
      "\u001b[1;31m---------------------------------------------------------------------------\u001b[0m",
      "\u001b[1;31mAssertionError\u001b[0m                            Traceback (most recent call last)",
      "\u001b[1;32m<ipython-input-22-fdbe32854d94>\u001b[0m in \u001b[0;36m<module>\u001b[1;34m\u001b[0m\n\u001b[0;32m     30\u001b[0m \u001b[1;33m\u001b[0m\u001b[0m\n\u001b[0;32m     31\u001b[0m \u001b[0massert_array_equal\u001b[0m\u001b[1;33m(\u001b[0m\u001b[0mphases\u001b[0m\u001b[1;33m,\u001b[0m \u001b[1;33m[\u001b[0m\u001b[1;36m27\u001b[0m\u001b[1;33m,\u001b[0m \u001b[1;36m27\u001b[0m\u001b[1;33m]\u001b[0m\u001b[1;33m)\u001b[0m\u001b[1;33m\u001b[0m\u001b[1;33m\u001b[0m\u001b[0m\n\u001b[1;32m---> 32\u001b[1;33m \u001b[0massert_array_equal\u001b[0m\u001b[1;33m(\u001b[0m\u001b[0mB0\u001b[0m\u001b[1;33m,\u001b[0m \u001b[1;33m[\u001b[0m\u001b[1;36m0.3815\u001b[0m\u001b[1;33m,\u001b[0m \u001b[1;36m0.7038\u001b[0m\u001b[1;33m]\u001b[0m\u001b[1;33m)\u001b[0m\u001b[1;33m\u001b[0m\u001b[1;33m\u001b[0m\u001b[0m\n\u001b[0m",
      "\u001b[1;32m~\\AppData\\Local\\Continuum\\anaconda3\\lib\\site-packages\\numpy\\testing\\_private\\utils.py\u001b[0m in \u001b[0;36massert_array_equal\u001b[1;34m(x, y, err_msg, verbose)\u001b[0m\n\u001b[0;32m    902\u001b[0m     \u001b[0m__tracebackhide__\u001b[0m \u001b[1;33m=\u001b[0m \u001b[1;32mTrue\u001b[0m  \u001b[1;31m# Hide traceback for py.test\u001b[0m\u001b[1;33m\u001b[0m\u001b[1;33m\u001b[0m\u001b[0m\n\u001b[0;32m    903\u001b[0m     assert_array_compare(operator.__eq__, x, y, err_msg=err_msg,\n\u001b[1;32m--> 904\u001b[1;33m                          verbose=verbose, header='Arrays are not equal')\n\u001b[0m\u001b[0;32m    905\u001b[0m \u001b[1;33m\u001b[0m\u001b[0m\n\u001b[0;32m    906\u001b[0m \u001b[1;33m\u001b[0m\u001b[0m\n",
      "\u001b[1;32m~\\AppData\\Local\\Continuum\\anaconda3\\lib\\site-packages\\numpy\\testing\\_private\\utils.py\u001b[0m in \u001b[0;36massert_array_compare\u001b[1;34m(comparison, x, y, err_msg, verbose, header, precision, equal_nan, equal_inf)\u001b[0m\n\u001b[0;32m    825\u001b[0m                                 \u001b[0mverbose\u001b[0m\u001b[1;33m=\u001b[0m\u001b[0mverbose\u001b[0m\u001b[1;33m,\u001b[0m \u001b[0mheader\u001b[0m\u001b[1;33m=\u001b[0m\u001b[0mheader\u001b[0m\u001b[1;33m,\u001b[0m\u001b[1;33m\u001b[0m\u001b[1;33m\u001b[0m\u001b[0m\n\u001b[0;32m    826\u001b[0m                                 names=('x', 'y'), precision=precision)\n\u001b[1;32m--> 827\u001b[1;33m             \u001b[1;32mraise\u001b[0m \u001b[0mAssertionError\u001b[0m\u001b[1;33m(\u001b[0m\u001b[0mmsg\u001b[0m\u001b[1;33m)\u001b[0m\u001b[1;33m\u001b[0m\u001b[1;33m\u001b[0m\u001b[0m\n\u001b[0m\u001b[0;32m    828\u001b[0m     \u001b[1;32mexcept\u001b[0m \u001b[0mValueError\u001b[0m\u001b[1;33m:\u001b[0m\u001b[1;33m\u001b[0m\u001b[1;33m\u001b[0m\u001b[0m\n\u001b[0;32m    829\u001b[0m         \u001b[1;32mimport\u001b[0m \u001b[0mtraceback\u001b[0m\u001b[1;33m\u001b[0m\u001b[1;33m\u001b[0m\u001b[0m\n",
      "\u001b[1;31mAssertionError\u001b[0m: \nArrays are not equal\n\nMismatch: 50%\nMax absolute difference: 0.015\nMax relative difference: 0.03931848\n x: array([0.3965, 0.7038])\n y: array([0.3815, 0.7038])"
     ]
    }
   ],
   "source": [
    "def get_data_3(imgs, param, unit):\n",
    "    \"\"\"Get X-Y data for a parameter and unit on a list of images.\n",
    "    \n",
    "    Parameters\n",
    "    ----------\n",
    "   imgs: list\n",
    "        List of images.\n",
    "    param: str\n",
    "        Photometric parameter name.\n",
    "    unit: str\n",
    "        Unit name.\n",
    "\n",
    "    Returns\n",
    "    -------\n",
    "    list:\n",
    "        List of image phase angles (deg).\n",
    "    list:\n",
    "        Photometric values for the selected unit.\n",
    "\n",
    "    See Also\n",
    "    --------\n",
    "    get_phase_3\n",
    "    get_data_2\n",
    "\n",
    "    \"\"\"\n",
    "    return get_phase_3(imgs), get_data_2(imgs, param, unit)\n",
    "    \n",
    "\n",
    "phases, B0 = get_data_3(imgs, 'B0', 'Ridged plains')\n",
    "\n",
    "assert_array_equal(phases, [27, 27])\n",
    "assert_array_equal(B0, [0.3815, 0.7038])"
   ]
  },
  {
   "cell_type": "code",
   "execution_count": 23,
   "metadata": {},
   "outputs": [],
   "source": [
    "# Cheat phase angles to be able to make a linear fit with distinct x values\n",
    "phases = [10, 20]"
   ]
  },
  {
   "cell_type": "code",
   "execution_count": 24,
   "metadata": {},
   "outputs": [
    {
     "data": {
      "image/png": "[encoded data removed]",
      "text/plain": [
       "<Figure size 432x288 with 1 Axes>"
      ]
     },
     "metadata": {
      "needs_background": "light"
     },
     "output_type": "display_data"
    }
   ],
   "source": [
    "fig, ax = plt.subplots(figsize=(6, 4))\n",
    "\n",
    "ax.scatter(phases, B0, color=EUROPA.color('Ridged plains'), label='Ridged plains')\n",
    "\n",
    "ax.set_xlabel(r'Phase angle $\\alpha$ (°)')\n",
    "ax.set_ylabel(r'B$_0$')\n",
    "\n",
    "ax.legend();"
   ]
  },
  {
   "cell_type": "code",
   "execution_count": 25,
   "metadata": {},
   "outputs": [
    {
     "ename": "AssertionError",
     "evalue": "\nArrays are not almost equal to 4 decimals\n\nMismatch: 100%\nMax absolute difference: 0.03\nMax relative difference: 0.50675676\n x: array([0.0307, 0.0892])\n y: array([0.0322, 0.0592])",
     "output_type": "error",
     "traceback": [
      "\u001b[1;31m---------------------------------------------------------------------------\u001b[0m",
      "\u001b[1;31mAssertionError\u001b[0m                            Traceback (most recent call last)",
      "\u001b[1;32m<ipython-input-25-493f2617285d>\u001b[0m in \u001b[0;36m<module>\u001b[1;34m\u001b[0m\n\u001b[0;32m     21\u001b[0m \u001b[0mm\u001b[0m\u001b[1;33m,\u001b[0m \u001b[0mb\u001b[0m \u001b[1;33m=\u001b[0m \u001b[0mlinear_fit_1\u001b[0m\u001b[1;33m(\u001b[0m\u001b[0mphases\u001b[0m\u001b[1;33m,\u001b[0m \u001b[0mB0\u001b[0m\u001b[1;33m)\u001b[0m\u001b[1;33m\u001b[0m\u001b[1;33m\u001b[0m\u001b[0m\n\u001b[0;32m     22\u001b[0m \u001b[1;33m\u001b[0m\u001b[0m\n\u001b[1;32m---> 23\u001b[1;33m \u001b[0massert_array_almost_equal\u001b[0m\u001b[1;33m(\u001b[0m\u001b[1;33m[\u001b[0m\u001b[0mm\u001b[0m\u001b[1;33m,\u001b[0m \u001b[0mb\u001b[0m\u001b[1;33m]\u001b[0m\u001b[1;33m,\u001b[0m \u001b[1;33m[\u001b[0m\u001b[1;36m0.03223\u001b[0m\u001b[1;33m,\u001b[0m \u001b[1;36m0.0592\u001b[0m\u001b[1;33m]\u001b[0m\u001b[1;33m,\u001b[0m \u001b[0mdecimal\u001b[0m\u001b[1;33m=\u001b[0m\u001b[1;36m4\u001b[0m\u001b[1;33m)\u001b[0m\u001b[1;33m\u001b[0m\u001b[1;33m\u001b[0m\u001b[0m\n\u001b[0m",
      "\u001b[1;32m~\\AppData\\Local\\Continuum\\anaconda3\\lib\\site-packages\\numpy\\testing\\_private\\utils.py\u001b[0m in \u001b[0;36massert_array_almost_equal\u001b[1;34m(x, y, decimal, err_msg, verbose)\u001b[0m\n\u001b[0;32m   1013\u001b[0m     assert_array_compare(compare, x, y, err_msg=err_msg, verbose=verbose,\n\u001b[0;32m   1014\u001b[0m              \u001b[0mheader\u001b[0m\u001b[1;33m=\u001b[0m\u001b[1;33m(\u001b[0m\u001b[1;34m'Arrays are not almost equal to %d decimals'\u001b[0m \u001b[1;33m%\u001b[0m \u001b[0mdecimal\u001b[0m\u001b[1;33m)\u001b[0m\u001b[1;33m,\u001b[0m\u001b[1;33m\u001b[0m\u001b[1;33m\u001b[0m\u001b[0m\n\u001b[1;32m-> 1015\u001b[1;33m              precision=decimal)\n\u001b[0m\u001b[0;32m   1016\u001b[0m \u001b[1;33m\u001b[0m\u001b[0m\n\u001b[0;32m   1017\u001b[0m \u001b[1;33m\u001b[0m\u001b[0m\n",
      "\u001b[1;32m~\\AppData\\Local\\Continuum\\anaconda3\\lib\\site-packages\\numpy\\testing\\_private\\utils.py\u001b[0m in \u001b[0;36massert_array_compare\u001b[1;34m(comparison, x, y, err_msg, verbose, header, precision, equal_nan, equal_inf)\u001b[0m\n\u001b[0;32m    825\u001b[0m                                 \u001b[0mverbose\u001b[0m\u001b[1;33m=\u001b[0m\u001b[0mverbose\u001b[0m\u001b[1;33m,\u001b[0m \u001b[0mheader\u001b[0m\u001b[1;33m=\u001b[0m\u001b[0mheader\u001b[0m\u001b[1;33m,\u001b[0m\u001b[1;33m\u001b[0m\u001b[1;33m\u001b[0m\u001b[0m\n\u001b[0;32m    826\u001b[0m                                 names=('x', 'y'), precision=precision)\n\u001b[1;32m--> 827\u001b[1;33m             \u001b[1;32mraise\u001b[0m \u001b[0mAssertionError\u001b[0m\u001b[1;33m(\u001b[0m\u001b[0mmsg\u001b[0m\u001b[1;33m)\u001b[0m\u001b[1;33m\u001b[0m\u001b[1;33m\u001b[0m\u001b[0m\n\u001b[0m\u001b[0;32m    828\u001b[0m     \u001b[1;32mexcept\u001b[0m \u001b[0mValueError\u001b[0m\u001b[1;33m:\u001b[0m\u001b[1;33m\u001b[0m\u001b[1;33m\u001b[0m\u001b[0m\n\u001b[0;32m    829\u001b[0m         \u001b[1;32mimport\u001b[0m \u001b[0mtraceback\u001b[0m\u001b[1;33m\u001b[0m\u001b[1;33m\u001b[0m\u001b[0m\n",
      "\u001b[1;31mAssertionError\u001b[0m: \nArrays are not almost equal to 4 decimals\n\nMismatch: 100%\nMax absolute difference: 0.03\nMax relative difference: 0.50675676\n x: array([0.0307, 0.0892])\n y: array([0.0322, 0.0592])"
     ]
    }
   ],
   "source": [
    "def linear_fit_1(phases, values):\n",
    "    \"\"\"Get parameter from a linear.\n",
    "    \n",
    "    values = m * phases + b\n",
    "    \n",
    "    Parameters\n",
    "    ----------\n",
    "    phases: list\n",
    "        List of phase angles.\n",
    "    values: list\n",
    "        Photometric parameter values.\n",
    "    \n",
    "    Returns\n",
    "    -------\n",
    "    flaot, float:\n",
    "        `m` and `b` linear paramters.\n",
    "        \n",
    "    \"\"\"\n",
    "    return np.polyfit(phases, values, 1)\n",
    "\n",
    "m, b = linear_fit_1(phases, B0)\n",
    "\n",
    "assert_array_almost_equal([m, b], [0.03223, 0.0592], decimal=4)"
   ]
  },
  {
   "cell_type": "code",
   "execution_count": 26,
   "metadata": {},
   "outputs": [
    {
     "ename": "AssertionError",
     "evalue": "\nArrays are not almost equal to 4 decimals\n\nMismatch: 50%\nMax absolute difference: 0.015\nMax relative difference: 0.03931848\n x: array([0.3965, 0.7038])\n y: array([0.3815, 0.7038])",
     "output_type": "error",
     "traceback": [
      "\u001b[1;31m---------------------------------------------------------------------------\u001b[0m",
      "\u001b[1;31mAssertionError\u001b[0m                            Traceback (most recent call last)",
      "\u001b[1;32m<ipython-input-26-68ad5a068182>\u001b[0m in \u001b[0;36m<module>\u001b[1;34m\u001b[0m\n\u001b[0;32m     30\u001b[0m \u001b[1;33m\u001b[0m\u001b[0m\n\u001b[0;32m     31\u001b[0m \u001b[0massert_array_equal\u001b[0m\u001b[1;33m(\u001b[0m\u001b[0mx\u001b[0m\u001b[1;33m,\u001b[0m \u001b[1;33m[\u001b[0m\u001b[1;36m10\u001b[0m\u001b[1;33m,\u001b[0m \u001b[1;36m20\u001b[0m\u001b[1;33m]\u001b[0m\u001b[1;33m)\u001b[0m\u001b[1;33m\u001b[0m\u001b[1;33m\u001b[0m\u001b[0m\n\u001b[1;32m---> 32\u001b[1;33m \u001b[0massert_array_almost_equal\u001b[0m\u001b[1;33m(\u001b[0m\u001b[0my\u001b[0m\u001b[1;33m,\u001b[0m \u001b[1;33m[\u001b[0m\u001b[1;36m0.3815\u001b[0m\u001b[1;33m,\u001b[0m \u001b[1;36m0.7038\u001b[0m\u001b[1;33m]\u001b[0m\u001b[1;33m,\u001b[0m \u001b[0mdecimal\u001b[0m\u001b[1;33m=\u001b[0m\u001b[1;36m4\u001b[0m\u001b[1;33m)\u001b[0m\u001b[1;33m\u001b[0m\u001b[1;33m\u001b[0m\u001b[0m\n\u001b[0m",
      "\u001b[1;32m~\\AppData\\Local\\Continuum\\anaconda3\\lib\\site-packages\\numpy\\testing\\_private\\utils.py\u001b[0m in \u001b[0;36massert_array_almost_equal\u001b[1;34m(x, y, decimal, err_msg, verbose)\u001b[0m\n\u001b[0;32m   1013\u001b[0m     assert_array_compare(compare, x, y, err_msg=err_msg, verbose=verbose,\n\u001b[0;32m   1014\u001b[0m              \u001b[0mheader\u001b[0m\u001b[1;33m=\u001b[0m\u001b[1;33m(\u001b[0m\u001b[1;34m'Arrays are not almost equal to %d decimals'\u001b[0m \u001b[1;33m%\u001b[0m \u001b[0mdecimal\u001b[0m\u001b[1;33m)\u001b[0m\u001b[1;33m,\u001b[0m\u001b[1;33m\u001b[0m\u001b[1;33m\u001b[0m\u001b[0m\n\u001b[1;32m-> 1015\u001b[1;33m              precision=decimal)\n\u001b[0m\u001b[0;32m   1016\u001b[0m \u001b[1;33m\u001b[0m\u001b[0m\n\u001b[0;32m   1017\u001b[0m \u001b[1;33m\u001b[0m\u001b[0m\n",
      "\u001b[1;32m~\\AppData\\Local\\Continuum\\anaconda3\\lib\\site-packages\\numpy\\testing\\_private\\utils.py\u001b[0m in \u001b[0;36massert_array_compare\u001b[1;34m(comparison, x, y, err_msg, verbose, header, precision, equal_nan, equal_inf)\u001b[0m\n\u001b[0;32m    825\u001b[0m                                 \u001b[0mverbose\u001b[0m\u001b[1;33m=\u001b[0m\u001b[0mverbose\u001b[0m\u001b[1;33m,\u001b[0m \u001b[0mheader\u001b[0m\u001b[1;33m=\u001b[0m\u001b[0mheader\u001b[0m\u001b[1;33m,\u001b[0m\u001b[1;33m\u001b[0m\u001b[1;33m\u001b[0m\u001b[0m\n\u001b[0;32m    826\u001b[0m                                 names=('x', 'y'), precision=precision)\n\u001b[1;32m--> 827\u001b[1;33m             \u001b[1;32mraise\u001b[0m \u001b[0mAssertionError\u001b[0m\u001b[1;33m(\u001b[0m\u001b[0mmsg\u001b[0m\u001b[1;33m)\u001b[0m\u001b[1;33m\u001b[0m\u001b[1;33m\u001b[0m\u001b[0m\n\u001b[0m\u001b[0;32m    828\u001b[0m     \u001b[1;32mexcept\u001b[0m \u001b[0mValueError\u001b[0m\u001b[1;33m:\u001b[0m\u001b[1;33m\u001b[0m\u001b[1;33m\u001b[0m\u001b[0m\n\u001b[0;32m    829\u001b[0m         \u001b[1;32mimport\u001b[0m \u001b[0mtraceback\u001b[0m\u001b[1;33m\u001b[0m\u001b[1;33m\u001b[0m\u001b[0m\n",
      "\u001b[1;31mAssertionError\u001b[0m: \nArrays are not almost equal to 4 decimals\n\nMismatch: 50%\nMax absolute difference: 0.015\nMax relative difference: 0.03931848\n x: array([0.3965, 0.7038])\n y: array([0.3815, 0.7038])"
     ]
    }
   ],
   "source": [
    "def linear_fit_2(phases, values):\n",
    "    \"\"\"Get parameter from a linear.\n",
    "    \n",
    "    values = m * phases + b\n",
    "    \n",
    "    Parameters\n",
    "    ----------\n",
    "    phases: list\n",
    "        List of phase angles.\n",
    "    values: list\n",
    "        Photometric parameter values.\n",
    "    \n",
    "    Returns\n",
    "    -------\n",
    "    flaot, float:\n",
    "        `m` and `b` linear paramters.\n",
    "        \n",
    "    See Also\n",
    "    --------\n",
    "    linear_fit_1\n",
    "    \n",
    "    \"\"\"\n",
    "    xmin, xmax = np.min(phases), np.max(phases)\n",
    "    \n",
    "    m, b = linear_fit_1(phases, values)\n",
    "    \n",
    "    return [xmin, xmax], [m * xmin + b, m * xmax + b]\n",
    "\n",
    "x, y = linear_fit_2(phases, B0)\n",
    "\n",
    "assert_array_equal(x, [10, 20])\n",
    "assert_array_almost_equal(y, [0.3815, 0.7038], decimal=4)"
   ]
  },
  {
   "cell_type": "code",
   "execution_count": 27,
   "metadata": {},
   "outputs": [
    {
     "data": {
      "image/png": "[encoded data removed]",
      "text/plain": [
       "<Figure size 432x288 with 1 Axes>"
      ]
     },
     "metadata": {
      "needs_background": "light"
     },
     "output_type": "display_data"
    }
   ],
   "source": [
    "fig, ax = plt.subplots(figsize=(6, 4))\n",
    "\n",
    "ax.scatter(phases, B0, color=EUROPA.color('Ridged plains'), label='Ridged plains')\n",
    "\n",
    "ax.plot(*linear_fit_2(phases, B0), color=EUROPA.color('Ridged plains'), label='Fit')\n",
    "\n",
    "ax.set_xlabel(r'Phase angle $\\alpha$ (°)')\n",
    "ax.set_ylabel(r'B$_0$')\n",
    "\n",
    "ax.legend();"
   ]
  },
  {
   "cell_type": "code",
   "execution_count": null,
   "metadata": {},
   "outputs": [],
   "source": []
  },
  {
   "cell_type": "code",
   "execution_count": null,
   "metadata": {},
   "outputs": [],
   "source": []
  }
 ],
 "metadata": {
  "kernelspec": {
   "display_name": "Python 3",
   "language": "python",
   "name": "python3"
  },
  "language_info": {
   "codemirror_mode": {
    "name": "ipython",
    "version": 3
   },
   "file_extension": ".py",
   "mimetype": "text/x-python",
   "name": "python",
   "nbconvert_exporter": "python",
   "pygments_lexer": "ipython3",
   "version": "3.7.3"
  }
 },
 "nbformat": 4,
 "nbformat_minor": 2
}
