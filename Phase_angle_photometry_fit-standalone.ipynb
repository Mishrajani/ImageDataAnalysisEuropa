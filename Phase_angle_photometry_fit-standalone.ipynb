{
 "cells": [
  {
   "cell_type": "markdown",
   "metadata": {},
   "source": [
    "# Phase angle photometry fit"
   ]
  },
  {
   "cell_type": "code",
   "execution_count": 3,
   "metadata": {},
   "outputs": [],
   "source": [
    "import numpy as np\n",
    "import matplotlib.pyplot as plt\n",
    "\n",
    "from ssi.geol import EUROPA"
   ]
  },
  {
   "cell_type": "markdown",
   "metadata": {},
   "source": [
    "### Functions definitions"
   ]
  },
  {
   "cell_type": "code",
   "execution_count": 4,
   "metadata": {},
   "outputs": [],
   "source": [
    "def get_data(imgs, param, unit):\n",
    "    \"\"\"Get phase and values for a parameter and unit on a list of images.\n",
    "    \n",
    "    Parameters\n",
    "    ----------\n",
    "   imgs: list\n",
    "        List of images.\n",
    "    param: str\n",
    "        Photometric parameter name.\n",
    "    unit: str\n",
    "        Unit name.\n",
    "\n",
    "    Returns\n",
    "    -------\n",
    "    list:\n",
    "        List of image phase angles (deg).\n",
    "    list:\n",
    "        Photometric values for the selected unit.\n",
    "\n",
    "    \"\"\"\n",
    "    \n",
    "    col = ['unit', 'B0', 'dB0', 'k', 'dk', 'A', 'dA', 'f_alpha', 'df_alpha'].index(param)\n",
    "    \n",
    "    values = []\n",
    "    phases = []\n",
    "        \n",
    "    for img in imgs:\n",
    "        fname = f'{img}.pho.csv'\n",
    "        \n",
    "        # Get value\n",
    "        units = np.loadtxt(fname, usecols=0, delimiter=',', dtype=str)\n",
    "        vals = np.loadtxt(fname, usecols=col, delimiter=',')\n",
    "        \n",
    "        for u, v in zip(units, vals):\n",
    "            if unit == u and not np.isnan(v):\n",
    "                value = v\n",
    "                break\n",
    "        else:\n",
    "            print(f'WARNING: Unit `{u}` not found in {img} - Skipping this image.')\n",
    "            continue\n",
    "                \n",
    "        # Get phase value\n",
    "        with open(fname) as f:\n",
    "            lines = f.readlines()\n",
    "\n",
    "        for line in lines:\n",
    "            if '#' in line and 'phase' in line:\n",
    "                phase = float(line.split(',')[1])\n",
    "                break\n",
    "        else:\n",
    "            raise ValueError('Phase angle not found.')\n",
    "\n",
    "        # Collect the value and the phase\n",
    "        values.append(value)\n",
    "        phases.append(phase)\n",
    "            \n",
    "    return phases, values\n",
    "\n",
    "\n",
    "# def phase_fit(phases, values):\n",
    "#     \"\"\"Linear fit as function of the phase angle.\n",
    "    \n",
    "#     values = a * phases + b\n",
    "    \n",
    "#     Parameters\n",
    "#     ----------\n",
    "#     phases: list\n",
    "#         List of phase angles.\n",
    "#     values: list\n",
    "#         Photometric parameter values.\n",
    "    \n",
    "#     Returns\n",
    "#     -------\n",
    "#     list:\n",
    "#         Fit x-values.\n",
    "#     list:\n",
    "#         Fit y-values.\n",
    "        \n",
    "#     \"\"\"\n",
    "    \n",
    "#     xmin, xmax = np.min(phases), np.max(phases)\n",
    "    \n",
    "#     a, b = np.polyfit(phases, values, 1)\n",
    "    \n",
    "#     return [xmin, xmax], [a * xmin + b, a * xmax + b]"
   ]
  },
  {
   "cell_type": "code",
   "execution_count": 5,
   "metadata": {},
   "outputs": [],
   "source": [
    "# def phase_fit(phases, values, npoly=1):\n",
    "#     \"\"\"Linear fit as function of the phase angle.\n",
    "#     values = a * phases + b\n",
    "#     Parameters\n",
    "#     ----------\n",
    "#     phases: list\n",
    "#         List of phase angles.\n",
    "#     values: list\n",
    "#         Photometric parameter values.\n",
    "#     npoly: int\n",
    "#         Polynomial degree of the fit (default 1).\n",
    "#     Returns\n",
    "#     -------\n",
    "#     list:\n",
    "#         Fit x-values.\n",
    "#     list:\n",
    "#         Fit y-values.\n",
    "#     \"\"\"\n",
    "#     xmin, xmax = np.min(phases), np.max(phases)\n",
    "#     a, b = np.polyfit(phases, values, npoly)\n",
    "#     return [xmin, xmax], [a * xmin + b, a * xmax + b]"
   ]
  },
  {
   "cell_type": "code",
   "execution_count": 6,
   "metadata": {},
   "outputs": [],
   "source": [
    "def phase_fit(phases, values, npoly=1, coeff=False):\n",
    "    \"\"\"Linear fit as function of the phase angle.\n",
    "    values = a * phases + b\n",
    "    Parameters\n",
    "    ----------\n",
    "    phases: list\n",
    "        List of phase angles.\n",
    "    values: list\n",
    "        Photometric parameter values.\n",
    "    npoly: int, optional\n",
    "        Polynomial degree of the fit (default 1).\n",
    "    coeff: bool, optional\n",
    "        Return fitted data to be plotted if `FALSE` (default).\n",
    "        Return polynomial coefficient if `TRUE`\n",
    "    Returns\n",
    "    -------\n",
    "    list, list:\n",
    "        Fitted x and y-values (if `coeff=False`, default).\n",
    "    list:\n",
    "        Fitted polynomial coefficients (if `coeff=True`).\n",
    "    \"\"\"\n",
    "    xmin, xmax = np.min(phases), np.max(phases)\n",
    "    p = np.polyfit(phases, values, npoly)\n",
    "    z = np.poly1d(p)\n",
    "    return ([xmin, xmax], [z(xmin), z(xmax)]) if not coeff else p"
   ]
  },
  {
   "cell_type": "markdown",
   "metadata": {},
   "source": [
    "### Inputs and fit"
   ]
  },
  {
   "cell_type": "code",
   "execution_count": 66,
   "metadata": {},
   "outputs": [],
   "source": [
    "imgs = [\n",
    "#    'C0413743222R',\n",
    "#    'C0413743200R',\n",
    "   # 'C2059319',  #Violet\n",
    "   # 'C2065145',   #Violet\n",
    "   # 'C0401727726R_cal', #Violet\n",
    "   # 'C0413743200R_cal', #Violet\n",
    "   # 'C0639063413R_cal', #Violet\n",
    "   # 'C0360063913R_cal',  # Violet\n",
    "       'C2060513',                 #phase 10\n",
    "       'C2065213',                 #phase 107\n",
    "       'C2065221',                 #phase 108\n",
    "       #'lor_0034735439_0x630_sci', #phase 20  #remove for crater\n",
    "       'lor_0034866662_0x630_sci', #phase 35 on 01/27\n",
    "       #'lor_0034823099_0x630_sci', #phase 22   #removed for chaos n crater\n",
    "        'lor_0034930319_0x630_sci', #phase 69  on 01/27\n",
    "        'lor_0034931999_0x630_sci', #phase 71\n",
    "        'lor_0034975919_0x630_sci',  #phase 100 Odd values can be removed\n",
    "        'lor_0035025959_0x630_sci',  #phase 128   #removed for chaos\n",
    "        #'5126r_cal',                 #phase 38\n",
    "        'C0374649026R',              #phase  75\n",
    "        'C0349875100R',             #phase  83\n",
    "        'C0368639400R',             #phase 65\n",
    "        'C0349875113R',             #phase 37\n",
    "        'C0374649000R',             #phase 56\n",
    "#    'C0374649013R',             #phase   56     #remove for crater  \n",
    "        'C0374649026R',              #phase 55\n",
    "        'C0383694600R',             #phase 37 rem chaos\n",
    "#    'C0383717539R',\n",
    "        'C2065022',                 #phase 94\n",
    "        'C2065016',                 #phase 107\n",
    "        'C2065219',                 #phase 108\n",
    " \n",
    "]\n",
    "\n",
    "\n",
    "param = 'B0' #'B0'\n",
    "# unit = 'Ridged plains'\n",
    "# color = EUROPA.color(unit)\n",
    "\n",
    "# param = 'B0'\n",
    "# # param = 'k'\n",
    "# # unit = 'Ridged plains'\n",
    "# # unit = 'Bands'\n",
    "# unit = 'Low albedo chaos'#, 'Mottled albedo chaos']\n",
    "#unit = 'Mottled albedo chaos'\n",
    "# unit = 'High albedo chaos'\n",
    "# unit = 'Crater' #not working, giving error\n",
    "# unit = 'Continuous crater ejecta'\n",
    "\n",
    "\n"
   ]
  },
  {
   "cell_type": "code",
   "execution_count": 67,
   "metadata": {
    "scrolled": false
   },
   "outputs": [
    {
     "name": "stdout",
     "output_type": "stream",
     "text": [
      "WARNING: Unit `Mottled albedo chaos` not found in C0374649026R - Skipping this image.\n",
      "WARNING: Unit `Mottled albedo chaos` not found in C0374649026R - Skipping this image.\n",
      "WARNING: Unit `Mottled albedo chaos` not found in C0374649026R - Skipping this image.\n",
      "WARNING: Unit `Mottled albedo chaos` not found in C0374649026R - Skipping this image.\n",
      "WARNING: Unit `Mottled albedo chaos` not found in C0374649026R - Skipping this image.\n",
      "WARNING: Unit `Mottled albedo chaos` not found in C0374649000R - Skipping this image.\n",
      "WARNING: Unit `Mottled albedo chaos` not found in C0374649026R - Skipping this image.\n",
      "WARNING: Unit `Mottled albedo chaos` not found in C0374649026R - Skipping this image.\n",
      "WARNING: Unit `Mottled albedo chaos` not found in C0374649000R - Skipping this image.\n",
      "WARNING: Unit `Mottled albedo chaos` not found in C0374649026R - Skipping this image.\n"
     ]
    }
   ],
   "source": [
    "units = [\n",
    " #     'Low albedo chaos',\n",
    "#      'Mottled albedo chaos',\n",
    " #     'High albedo chaos',\n",
    "#      'Knobby albedo chaos',\n",
    "     'Ridged plains',\n",
    "     'Bands',\n",
    "#    'Crater',\n",
    "#    'Continuous crater ejecta',\n",
    "#     'Discontinuous crater ejecta'\n",
    " ]\n",
    "phases = []\n",
    "values = []\n",
    "errors = []\n",
    "colors = []\n",
    "for unit in units:\n",
    "    p, v = get_data(imgs, param, unit)\n",
    "    _, e = get_data(imgs, 'd' + param, unit)\n",
    "    c = EUROPA.color(unit)\n",
    "    phases += p\n",
    "    values += v\n",
    "    errors += e\n",
    "    colors += len(p) * [c]"
   ]
  },
  {
   "cell_type": "code",
   "execution_count": 68,
   "metadata": {},
   "outputs": [
    {
     "data": {
      "text/plain": [
       "(31, 31, 31, 31)"
      ]
     },
     "execution_count": 68,
     "metadata": {},
     "output_type": "execute_result"
    }
   ],
   "source": [
    "len(phases), len(values), len(errors), len(colors)"
   ]
  },
  {
   "cell_type": "code",
   "execution_count": 69,
   "metadata": {},
   "outputs": [
    {
     "data": {
      "text/plain": [
       "(0.5176470588235295, 0.0, 0.6588235294117647, 1.0)"
      ]
     },
     "execution_count": 69,
     "metadata": {},
     "output_type": "execute_result"
    }
   ],
   "source": [
    "#param\n",
    "EUROPA.color(unit)"
   ]
  },
  {
   "cell_type": "code",
   "execution_count": 70,
   "metadata": {},
   "outputs": [
    {
     "data": {
      "text/plain": [
       "[10.0,\n",
       " 107.0,\n",
       " 108.0,\n",
       " 35.0,\n",
       " 69.0,\n",
       " 71.0,\n",
       " 100.0,\n",
       " 128.0,\n",
       " 37.0,\n",
       " 65.0,\n",
       " 37.0,\n",
       " 56.0,\n",
       " 37.0,\n",
       " 94.0,\n",
       " 93.0,\n",
       " 108.0,\n",
       " 10.0,\n",
       " 107.0,\n",
       " 108.0,\n",
       " 35.0,\n",
       " 69.0,\n",
       " 71.0,\n",
       " 100.0,\n",
       " 128.0,\n",
       " 37.0,\n",
       " 65.0,\n",
       " 37.0,\n",
       " 37.0,\n",
       " 94.0,\n",
       " 93.0,\n",
       " 108.0]"
      ]
     },
     "execution_count": 70,
     "metadata": {},
     "output_type": "execute_result"
    }
   ],
   "source": [
    "phases"
   ]
  },
  {
   "cell_type": "code",
   "execution_count": 71,
   "metadata": {},
   "outputs": [
    {
     "data": {
      "text/plain": [
       "[0.6855,\n",
       " 0.376,\n",
       " 0.3577,\n",
       " 0.533,\n",
       " 0.6321,\n",
       " 0.6631,\n",
       " 0.6436,\n",
       " 0.6489,\n",
       " 0.7088,\n",
       " 0.5737,\n",
       " 0.6923,\n",
       " 0.5207,\n",
       " 0.7252,\n",
       " 0.3846,\n",
       " 0.4598,\n",
       " 0.4188,\n",
       " 0.7036,\n",
       " 0.357,\n",
       " 0.4408,\n",
       " 0.5163,\n",
       " 0.57,\n",
       " 0.6008,\n",
       " 0.6749,\n",
       " 0.4039,\n",
       " 0.6488,\n",
       " 0.5245,\n",
       " 0.6304,\n",
       " 0.7715,\n",
       " 0.3443,\n",
       " 0.4307,\n",
       " 0.4315]"
      ]
     },
     "execution_count": 71,
     "metadata": {},
     "output_type": "execute_result"
    }
   ],
   "source": [
    "# errors\n",
    "#units\n",
    "values"
   ]
  },
  {
   "cell_type": "code",
   "execution_count": 72,
   "metadata": {},
   "outputs": [
    {
     "data": {
      "text/plain": [
       "([10.0, 128.0], [0.7072964139700332, 0.4126977090819769])"
      ]
     },
     "execution_count": 72,
     "metadata": {},
     "output_type": "execute_result"
    }
   ],
   "source": [
    "#phase_fit(phases, values, coeff=True)\n",
    "phase_fit(phases, values, coeff=False)\n",
    "#phase_fit(phases, values, npoly=2, coeff=True)"
   ]
  },
  {
   "cell_type": "code",
   "execution_count": 73,
   "metadata": {},
   "outputs": [],
   "source": [
    "# phases, values = get_data(imgs, param, unit)\n",
    "# _, err = get_data(imgs, 'dB0', unit)\n",
    "# len(values)"
   ]
  },
  {
   "cell_type": "code",
   "execution_count": 74,
   "metadata": {},
   "outputs": [],
   "source": [
    "# color = EUROPA.color(unit)\n",
    "# phases, values = get_data(imgs, param, unit)\n",
    "# phases, values"
   ]
  },
  {
   "cell_type": "code",
   "execution_count": 75,
   "metadata": {},
   "outputs": [
    {
     "data": {
      "image/png": "[encoded data removed]",
      "text/plain": [
       "<Figure size 1440x720 with 1 Axes>"
      ]
     },
     "metadata": {
      "needs_background": "light"
     },
     "output_type": "display_data"
    }
   ],
   "source": [
    "fig, ax = plt.subplots(figsize=(20, 10))\n",
    "ax.scatter(phases, values, color=colors, s= 150)#, label=unit)\n",
    "#ax.errorbar(phases, values, yerr=errors, ecolors=colors, fmt='None')\n",
    "ax.errorbar(phases, values, yerr=errors, ecolor=colors, fmt = 'None')\n",
    "#ax.plot(*phase_fit(phases, values), color='red', label='Fit')\n",
    "ax.set_xlabel('Phase angle α (°)', fontsize = 24)\n",
    "#ax.set_ylabel('f(α)', fontsize = 24)\n",
    "ax.set_ylabel(param, fontsize = 24)\n",
    "\n",
    "#ax.plot(*phase_fit(phases, values), color='red', label='Fit')\n",
    "ax.plot(*phase_fit(phases, values, npoly=2), color='red', label='Fit')\n",
    "\n",
    "\n",
    "\n",
    "for unit in units:\n",
    "    ax.scatter([], [], color=[EUROPA.color(unit)], label=unit)\n",
    "ax.legend(markerscale = 2, fontsize = 24)\n",
    "\n",
    "\n",
    "\n",
    "#ax.legend();\n",
    "ax.set_ylim(0, 1.4)\n",
    "ax.set_xlim(0, 120)\n",
    "ax.tick_params(labelsize=24)\n",
    "#plt.savefig(f'All_units-{param}-fitChaos.png', bbox_inches='tight', transparent=True);\n",
    "#plt.savefig(f'B0_Bands.png', bbox_inches='tight', transparent=True);"
   ]
  },
  {
   "cell_type": "code",
   "execution_count": null,
   "metadata": {},
   "outputs": [],
   "source": [
    "\n"
   ]
  },
  {
   "cell_type": "code",
   "execution_count": null,
   "metadata": {},
   "outputs": [],
   "source": []
  },
  {
   "cell_type": "code",
   "execution_count": null,
   "metadata": {},
   "outputs": [],
   "source": []
  }
 ],
 "metadata": {
  "kernelspec": {
   "display_name": "Python 3",
   "language": "python",
   "name": "python3"
  },
  "language_info": {
   "codemirror_mode": {
    "name": "ipython",
    "version": 3
   },
   "file_extension": ".py",
   "mimetype": "text/x-python",
   "name": "python",
   "nbconvert_exporter": "python",
   "pygments_lexer": "ipython3",
   "version": "3.7.3"
  }
 },
 "nbformat": 4,
 "nbformat_minor": 2
}
